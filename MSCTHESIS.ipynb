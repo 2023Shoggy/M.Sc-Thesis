{
  "nbformat": 4,
  "nbformat_minor": 0,
  "metadata": {
    "colab": {
      "provenance": [],
      "gpuType": "L4",
      "machine_shape": "hm"
    },
    "kernelspec": {
      "name": "python3",
      "display_name": "Python 3"
    },
    "language_info": {
      "name": "python"
    },
    "accelerator": "GPU"
  },
  "cells": [
    {
      "cell_type": "code",
      "source": [
        "!curl ipinfo.io"
      ],
      "metadata": {
        "colab": {
          "base_uri": "https://localhost:8080/"
        },
        "id": "jPWyYBjkFWV-",
        "outputId": "48a4e651-b191-44b1-9c58-2ec61d35179a"
      },
      "execution_count": null,
      "outputs": [
        {
          "output_type": "stream",
          "name": "stdout",
          "text": [
            "{\n",
            "  \"ip\": \"34.143.235.6\",\n",
            "  \"hostname\": \"6.235.143.34.bc.googleusercontent.com\",\n",
            "  \"city\": \"Singapore\",\n",
            "  \"region\": \"Singapore\",\n",
            "  \"country\": \"SG\",\n",
            "  \"loc\": \"1.2897,103.8501\",\n",
            "  \"org\": \"AS396982 Google LLC\",\n",
            "  \"postal\": \"018989\",\n",
            "  \"timezone\": \"Asia/Singapore\",\n",
            "  \"readme\": \"https://ipinfo.io/missingauth\"\n",
            "}"
          ]
        }
      ]
    },
    {
      "cell_type": "code",
      "source": [
        "!pip install patool\n",
        "!pip install visualkeras"
      ],
      "metadata": {
        "colab": {
          "base_uri": "https://localhost:8080/"
        },
        "id": "Yl5RgSN-FT_m",
        "outputId": "6b7af6d2-9566-43bf-f186-344730110e24"
      },
      "execution_count": null,
      "outputs": [
        {
          "output_type": "stream",
          "name": "stdout",
          "text": [
            "Collecting patool\n",
            "  Downloading patool-2.3.0-py2.py3-none-any.whl (96 kB)\n",
            "\u001b[?25l     \u001b[90m━━━━━━━━━━━━━━━━━━━━━━━━━━━━━━━━━━━━━━━━\u001b[0m \u001b[32m0.0/96.6 kB\u001b[0m \u001b[31m?\u001b[0m eta \u001b[36m-:--:--\u001b[0m\r\u001b[2K     \u001b[90m━━━━━━━━━━━━━━━━━━━━━━━━━━━━━━━━━━━━━━━━\u001b[0m \u001b[32m96.6/96.6 kB\u001b[0m \u001b[31m2.8 MB/s\u001b[0m eta \u001b[36m0:00:00\u001b[0m\n",
            "\u001b[?25hInstalling collected packages: patool\n",
            "Successfully installed patool-2.3.0\n",
            "Collecting visualkeras\n",
            "  Downloading visualkeras-0.0.2-py3-none-any.whl (12 kB)\n",
            "Requirement already satisfied: pillow>=6.2.0 in /usr/local/lib/python3.10/dist-packages (from visualkeras) (9.4.0)\n",
            "Requirement already satisfied: numpy>=1.18.1 in /usr/local/lib/python3.10/dist-packages (from visualkeras) (1.25.2)\n",
            "Collecting aggdraw>=1.3.11 (from visualkeras)\n",
            "  Downloading aggdraw-1.3.18.post0-cp310-cp310-manylinux_2_17_x86_64.manylinux2014_x86_64.whl (993 kB)\n",
            "\u001b[2K     \u001b[90m━━━━━━━━━━━━━━━━━━━━━━━━━━━━━━━━━━━━━━━━\u001b[0m \u001b[32m993.8/993.8 kB\u001b[0m \u001b[31m19.2 MB/s\u001b[0m eta \u001b[36m0:00:00\u001b[0m\n",
            "\u001b[?25hInstalling collected packages: aggdraw, visualkeras\n",
            "Successfully installed aggdraw-1.3.18.post0 visualkeras-0.0.2\n"
          ]
        }
      ]
    },
    {
      "cell_type": "code",
      "source": [
        "%load_ext tensorboard"
      ],
      "metadata": {
        "id": "_jkqKwyg2Um7"
      },
      "execution_count": null,
      "outputs": []
    },
    {
      "cell_type": "code",
      "execution_count": null,
      "metadata": {
        "colab": {
          "base_uri": "https://localhost:8080/"
        },
        "id": "m1vJdCoHB2rx",
        "outputId": "09c4b132-dbca-4948-9efc-2a5886d875c5"
      },
      "outputs": [
        {
          "output_type": "stream",
          "name": "stdout",
          "text": [
            "Mounted at /content/drive\n"
          ]
        }
      ],
      "source": [
        "from google.colab import drive\n",
        "drive.mount('/content/drive')"
      ]
    },
    {
      "cell_type": "code",
      "source": [
        "# Extract the .rar file\n",
        "import patoolib\n",
        "patoolib.extract_archive(\"/content/drive/MyDrive/Dataset of Mammography with Benign Malignant Breast Masses.rar\", outdir=\"datasets\")"
      ],
      "metadata": {
        "colab": {
          "base_uri": "https://localhost:8080/",
          "height": 209
        },
        "id": "hNkQY_CVFRpu",
        "outputId": "b80f3936-0aa9-4d57-d574-89f856da40cc"
      },
      "execution_count": null,
      "outputs": [
        {
          "output_type": "stream",
          "name": "stderr",
          "text": [
            "INFO patool: Extracting /content/drive/MyDrive/Dataset of Mammography with Benign Malignant Breast Masses.rar ...\n",
            "INFO:patool:Extracting /content/drive/MyDrive/Dataset of Mammography with Benign Malignant Breast Masses.rar ...\n",
            "INFO patool: ... creating output directory `datasets'.\n",
            "INFO:patool:... creating output directory `datasets'.\n",
            "INFO patool: running /usr/bin/unrar x -- \"/content/drive/MyDrive/Dataset of Mammography with Benign Malignant Breast Masses.rar\"\n",
            "INFO:patool:running /usr/bin/unrar x -- \"/content/drive/MyDrive/Dataset of Mammography with Benign Malignant Breast Masses.rar\"\n",
            "INFO patool:     with cwd='datasets', input=''\n",
            "INFO:patool:    with cwd='datasets', input=''\n",
            "INFO patool: ... /content/drive/MyDrive/Dataset of Mammography with Benign Malignant Breast Masses.rar extracted to `datasets'.\n",
            "INFO:patool:... /content/drive/MyDrive/Dataset of Mammography with Benign Malignant Breast Masses.rar extracted to `datasets'.\n"
          ]
        },
        {
          "output_type": "execute_result",
          "data": {
            "text/plain": [
              "'datasets'"
            ],
            "application/vnd.google.colaboratory.intrinsic+json": {
              "type": "string"
            }
          },
          "metadata": {},
          "execution_count": 5
        }
      ]
    },
    {
      "cell_type": "markdown",
      "source": [
        "## Project Title: Anomaly Detection in Mammography using CNN and Autoencoders\n",
        "\n",
        "### Research Questions\n",
        "Investigate the features of Convolutional Autoencoder (CAE) and Variational Autoencoder (VAE) vs DenseNets (CNN), How does different feature extraction techniques impact their performance in identifying anomalies in mammographic images?\n",
        "Comparing the efficacy of Convolutional Autoencoder (CAE) and Variational Autoencoder (VAE) vs DenseNets (CNN), which of them is the most accurate in identifying anomalies in mammography images?\n",
        "\n",
        "### Project Objectives\n",
        "The primary objective of this project is to develop and evaluate advanced machine-learning models for detecting anomalies in mammography images. I will compare the performance of convolutional autoencoders (CAE) and variational autoencoders (VAE) against DenseNets (CNN) in identifying these anomalies to determine which model provides higher accuracy and reliability in anomaly detection. Another goal is to assess the computational efficiency and scalability of each model when applied to large datasets of mammography images. Additionally, the project intends to explore the interpretability of the model's outputs to ensure they can be effectively used in clinical settings. The project will provide insights into the strengths and weaknesses of each approach, and the findings from this report will contribute to improving the early detection of breast cancer through more accurate and efficient anomaly detection methods.\n",
        "\n",
        "### Summary of project and background\n",
        "This project focuses on the application of advanced machine learning techniques to detect anomalies in mammography images, which is crucial for early breast cancer detection. The research compares the efficacy of Convolutional Autoencoders (CAE) and Variational Autoencoders (VAE) with DenseNets (CNN) in identifying these anomalies. Mammography is a widely used screening tool for breast cancer, but the interpretation of images can be challenging and prone to human error. By leveraging deep learning models, the project aims to enhance the accuracy  and reliability of anomaly detection, potentially leading to better clinical outcomes. The background of this project lies in the need for more effective and automated methods to assist radiologists in diagnosing breast cancer. The use of CAE, VAE, and CNN models represents a cutting-edge approach in the field of medical image analysis. This research will contribute to the ongoing efforts to improve breast cancer screening and diagnosis through technological advancements."
      ],
      "metadata": {
        "id": "7ZbBNXmmTgkh"
      }
    },
    {
      "cell_type": "markdown",
      "source": [
        "## Convolutional Autoencoder (CAE)\n"
      ],
      "metadata": {
        "id": "fL6kCIPQTvUb"
      }
    },
    {
      "cell_type": "code",
      "source": [
        "import os\n",
        "import visualkeras\n",
        "import numpy as np\n",
        "import matplotlib.pyplot as plt\n",
        "\n",
        "# Sklearn\n",
        "from sklearn.model_selection import train_test_split\n",
        "from sklearn.metrics import classification_report, confusion_matrix, ConfusionMatrixDisplay\n",
        "from sklearn.metrics import accuracy_score, precision_score, recall_score, f1_score, roc_auc_score, roc_curve, auc, precision_recall_curve\n",
        "\n",
        "# Tensorflow\n",
        "import tensorflow as tf\n",
        "from tensorflow.keras.models import Model\n",
        "from tensorflow.keras.utils import plot_model\n",
        "from tensorflow.keras.callbacks import ModelCheckpoint, TensorBoard\n",
        "from tensorflow.keras.preprocessing.image import ImageDataGenerator\n",
        "from tensorflow.keras.layers import Input, Conv2D, MaxPooling2D, UpSampling2D, Flatten, Dense\n"
      ],
      "metadata": {
        "id": "NzPibkaza0zY"
      },
      "execution_count": null,
      "outputs": []
    },
    {
      "cell_type": "code",
      "source": [
        "# # Define the directory where the images are extracted\n",
        "data_dir = './datasets/Dataset of Mammography with Benign Malignant Breast Masses/INbreast+MIAS+DDSM Dataset'\n",
        "\n",
        "# Load images using ImageDataGenerator\n",
        "datagen = ImageDataGenerator(rescale=1./255, validation_split=0.2)\n",
        "\n",
        "train_generator = datagen.flow_from_directory(\n",
        "    data_dir,\n",
        "    target_size=(152, 152),\n",
        "    batch_size=32,\n",
        "    class_mode='input'\n",
        ")\n",
        "\n",
        "validation_generator = datagen.flow_from_directory(\n",
        "    data_dir,\n",
        "    target_size=(152, 152),\n",
        "    batch_size=32,\n",
        "    class_mode='input'\n",
        ")"
      ],
      "metadata": {
        "id": "fU3mwM5dT98-",
        "colab": {
          "base_uri": "https://localhost:8080/"
        },
        "outputId": "1d2eaa5e-518b-4dc8-9ad9-c5a75389ed3b"
      },
      "execution_count": null,
      "outputs": [
        {
          "output_type": "stream",
          "name": "stdout",
          "text": [
            "Found 24576 images belonging to 2 classes.\n",
            "Found 24576 images belonging to 2 classes.\n"
          ]
        }
      ]
    },
    {
      "cell_type": "code",
      "source": [
        "# Define the Convolutional Autoencoder (CAE) class\n",
        "class ConvolutionalAutoencoder:\n",
        "    def __init__(self, input_shape=(150, 150, 3)):\n",
        "        self.input_shape = input_shape\n",
        "        self.model = self.build_model()\n",
        "\n",
        "    def build_model(self):\n",
        "        input_img = Input(shape=self.input_shape)\n",
        "\n",
        "        # Encoder\n",
        "        x = Conv2D(32, (3, 3), activation='relu', padding='same')(input_img)\n",
        "        x = MaxPooling2D((2, 2), padding='same')(x)\n",
        "        x = Conv2D(32, (3, 3), activation='relu', padding='same')(x)\n",
        "        x = MaxPooling2D((2, 2), padding='same')(x)\n",
        "\n",
        "        # Decoder\n",
        "        x = Conv2D(32, (3, 3), activation='relu', padding='same')(x)\n",
        "        x = UpSampling2D((2, 2))(x)\n",
        "        x = Conv2D(32, (3, 3), activation='relu', padding='same')(x)\n",
        "        x = UpSampling2D((2, 2))(x)\n",
        "\n",
        "        # Output layer\n",
        "        decoded = Conv2D(3, (3, 3), activation='sigmoid', padding='same')(x)\n",
        "\n",
        "        # Compile the model\n",
        "        autoencoder = Model(input_img, decoded)\n",
        "        autoencoder.compile(optimizer='adam', loss='binary_crossentropy')\n",
        "        return autoencoder\n",
        "\n",
        "    def summary(self):\n",
        "        return self.model.summary()\n",
        "\n",
        "    def plot_model(self, filename='autoencoder_model.png'):\n",
        "        plot_model(self.model, to_file=filename, show_shapes=True, show_layer_names=True)\n",
        "\n",
        "    def train(self, train_generator, validation_generator, epochs=5, checkpoint_path='training_checkpoints/cae/cp-{epoch:04d}.ckpt'):\n",
        "        checkpoint_dir = os.path.dirname(checkpoint_path)\n",
        "\n",
        "        # Create a callback that saves the model's weights\n",
        "        cp_callback = ModelCheckpoint(\n",
        "            filepath=checkpoint_path,\n",
        "            verbose=1,\n",
        "            save_weights_only=True,\n",
        "            period=1)\n",
        "\n",
        "        # Create a TensorBoard callback\n",
        "        tensorboard_callback = TensorBoard(log_dir='./logs/cae')\n",
        "\n",
        "        # Train the model with the new callbacks\n",
        "        history = self.model.fit(\n",
        "            train_generator,\n",
        "            epochs=epochs,\n",
        "            validation_data=validation_generator,\n",
        "            callbacks=[cp_callback, tensorboard_callback]\n",
        "        )\n",
        "        return history\n",
        "\n",
        "    def evaluate(self, validation_generator):\n",
        "        validation_generator.reset()\n",
        "        predictions = self.model.predict(validation_generator)\n",
        "\n",
        "        # Get true labels\n",
        "        true_labels = validation_generator.classes\n",
        "\n",
        "        # Reshape the predictions to match the true labels\n",
        "        predicted_labels_reshaped = predictions.reshape(predictions.shape[0], -1).mean(axis=1)\n",
        "\n",
        "        # Convert predictions to binary labels\n",
        "        predicted_labels_binary = np.where(predicted_labels_reshaped > 0.5, 1, 0)\n",
        "\n",
        "        # Calculate evaluation metrics\n",
        "        accuracy = accuracy_score(true_labels, predicted_labels_binary)\n",
        "        precision = precision_score(true_labels, predicted_labels_binary)\n",
        "        recall = recall_score(true_labels, predicted_labels_binary)\n",
        "        f1 = f1_score(true_labels, predicted_labels_binary)\n",
        "        roc_auc = roc_auc_score(true_labels, predicted_labels_binary)\n",
        "\n",
        "        # Print evaluation metrics\n",
        "        print('Accuracy:', accuracy)\n",
        "        print('Precision:', precision)\n",
        "        print('Recall:', recall)\n",
        "        print('F1 Score:', f1)\n",
        "        print('ROC-AUC:', roc_auc)\n",
        "\n",
        "        # Draw a confusion matrix\n",
        "        cm = confusion_matrix(true_labels, predicted_labels_binary)\n",
        "        cmd = ConfusionMatrixDisplay(cm, display_labels=['Benign', 'Malignant'])\n",
        "        cmd.plot(cmap=plt.cm.Blues)\n",
        "        plt.title('Confusion Matrix')\n",
        "        plt.show()\n",
        "\n",
        "        # Plot ROC curve\n",
        "        fpr, tpr, _ = roc_curve(true_labels, predicted_labels_binary)\n",
        "        roc_auc = auc(fpr, tpr)\n",
        "        plt.figure()\n",
        "        plt.plot(fpr, tpr, color='darkorange', lw=2, label='ROC curve (area = %0.2f)' % roc_auc)\n",
        "        plt.plot([0, 1], [0, 1], color='navy', lw=2, linestyle='--')\n",
        "        plt.xlim([0.0, 1.0])\n",
        "        plt.ylim([0.0, 1.05])\n",
        "        plt.xlabel('False Positive Rate')\n",
        "        plt.ylabel('True Positive Rate')\n",
        "        plt.title('Receiver Operating Characteristic')\n",
        "        plt.legend(loc=\"lower right\")\n",
        "        plt.show()\n",
        "\n",
        "        # Plot Precision-Recall curve\n",
        "        precision, recall, _ = precision_recall_curve(true_labels, predicted_labels_binary)\n",
        "        pr_auc = auc(recall, precision)\n",
        "        plt.figure()\n",
        "        plt.plot(recall, precision, color='blue', lw=2, label='PR curve (area = %0.2f)' % pr_auc)\n",
        "        plt.xlabel('Recall')\n",
        "        plt.ylabel('Precision')\n",
        "        plt.title('Precision-Recall curve')\n",
        "        plt.legend(loc=\"lower left\")\n",
        "        plt.show()\n",
        "\n",
        "        print('Evaluation completed.')\n"
      ],
      "metadata": {
        "id": "ukTcQQ1K1Dfo"
      },
      "execution_count": null,
      "outputs": []
    },
    {
      "cell_type": "code",
      "source": [
        "# Instantiate the ConvolutionalAutoencoder class\n",
        "cae = ConvolutionalAutoencoder()\n",
        "\n",
        "# Display the model summary\n",
        "cae.summary()"
      ],
      "metadata": {
        "colab": {
          "base_uri": "https://localhost:8080/"
        },
        "id": "WibVT6ZA1QWc",
        "outputId": "e3125a8d-4e40-4ef7-9cc0-75d4e188a3b5"
      },
      "execution_count": null,
      "outputs": [
        {
          "output_type": "stream",
          "name": "stdout",
          "text": [
            "Model: \"model\"\n",
            "_________________________________________________________________\n",
            " Layer (type)                Output Shape              Param #   \n",
            "=================================================================\n",
            " input_1 (InputLayer)        [(None, 150, 150, 3)]     0         \n",
            "                                                                 \n",
            " conv2d (Conv2D)             (None, 150, 150, 32)      896       \n",
            "                                                                 \n",
            " max_pooling2d (MaxPooling2  (None, 75, 75, 32)        0         \n",
            " D)                                                              \n",
            "                                                                 \n",
            " conv2d_1 (Conv2D)           (None, 75, 75, 32)        9248      \n",
            "                                                                 \n",
            " max_pooling2d_1 (MaxPoolin  (None, 38, 38, 32)        0         \n",
            " g2D)                                                            \n",
            "                                                                 \n",
            " conv2d_2 (Conv2D)           (None, 38, 38, 32)        9248      \n",
            "                                                                 \n",
            " up_sampling2d (UpSampling2  (None, 76, 76, 32)        0         \n",
            " D)                                                              \n",
            "                                                                 \n",
            " conv2d_3 (Conv2D)           (None, 76, 76, 32)        9248      \n",
            "                                                                 \n",
            " up_sampling2d_1 (UpSamplin  (None, 152, 152, 32)      0         \n",
            " g2D)                                                            \n",
            "                                                                 \n",
            " conv2d_4 (Conv2D)           (None, 152, 152, 3)       867       \n",
            "                                                                 \n",
            "=================================================================\n",
            "Total params: 29507 (115.26 KB)\n",
            "Trainable params: 29507 (115.26 KB)\n",
            "Non-trainable params: 0 (0.00 Byte)\n",
            "_________________________________________________________________\n"
          ]
        }
      ]
    },
    {
      "cell_type": "code",
      "source": [
        "# Generate and save the model diagram\n",
        "cae.plot_model()"
      ],
      "metadata": {
        "id": "Aq40MGay4mSy"
      },
      "execution_count": null,
      "outputs": []
    },
    {
      "cell_type": "code",
      "source": [
        "# Train the model\n",
        "history = cae.train(train_generator, validation_generator)"
      ],
      "metadata": {
        "colab": {
          "base_uri": "https://localhost:8080/"
        },
        "id": "1vACBcwa4iNd",
        "outputId": "d99c10df-21ff-4388-a5eb-b448f074a004"
      },
      "execution_count": null,
      "outputs": [
        {
          "output_type": "stream",
          "name": "stderr",
          "text": [
            "WARNING:tensorflow:`period` argument is deprecated. Please use `save_freq` to specify the frequency in number of batches seen.\n"
          ]
        },
        {
          "output_type": "stream",
          "name": "stdout",
          "text": [
            "Epoch 1/5\n",
            "768/768 [==============================] - ETA: 0s - loss: 0.3813\n",
            "Epoch 1: saving model to training_checkpoints/cae/cp-0001.ckpt\n",
            "768/768 [==============================] - 78s 95ms/step - loss: 0.3813 - val_loss: 0.3712\n",
            "Epoch 2/5\n",
            "768/768 [==============================] - ETA: 0s - loss: 0.3709\n",
            "Epoch 2: saving model to training_checkpoints/cae/cp-0002.ckpt\n",
            "768/768 [==============================] - 74s 96ms/step - loss: 0.3709 - val_loss: 0.3707\n",
            "Epoch 3/5\n",
            "768/768 [==============================] - ETA: 0s - loss: 0.3706\n",
            "Epoch 3: saving model to training_checkpoints/cae/cp-0003.ckpt\n",
            "768/768 [==============================] - 73s 94ms/step - loss: 0.3706 - val_loss: 0.3704\n",
            "Epoch 4/5\n",
            "767/768 [============================>.] - ETA: 0s - loss: 0.3704\n",
            "Epoch 4: saving model to training_checkpoints/cae/cp-0004.ckpt\n",
            "768/768 [==============================] - 72s 94ms/step - loss: 0.3704 - val_loss: 0.3703\n",
            "Epoch 5/5\n",
            "768/768 [==============================] - ETA: 0s - loss: 0.3703\n",
            "Epoch 5: saving model to training_checkpoints/cae/cp-0005.ckpt\n",
            "768/768 [==============================] - 73s 95ms/step - loss: 0.3703 - val_loss: 0.3702\n"
          ]
        }
      ]
    },
    {
      "cell_type": "code",
      "source": [
        "# Evaluate the model\n",
        "cae.evaluate(validation_generator)"
      ],
      "metadata": {
        "id": "c7n5CBpW3kD1",
        "colab": {
          "base_uri": "https://localhost:8080/",
          "height": 1000
        },
        "outputId": "266d6daf-e319-4d2d-d68c-3a537a7e12b7"
      },
      "execution_count": null,
      "outputs": [
        {
          "output_type": "stream",
          "name": "stdout",
          "text": [
            "768/768 [==============================] - 36s 46ms/step\n",
            "Accuracy: 0.4420166015625\n",
            "Precision: 0.0\n",
            "Recall: 0.0\n",
            "F1 Score: 0.0\n",
            "ROC-AUC: 0.4998619547211485\n"
          ]
        },
        {
          "output_type": "display_data",
          "data": {
            "text/plain": [
              "<Figure size 640x480 with 2 Axes>"
            ],
            "image/png": "[encoded data removed]"
          },
          "metadata": {}
        },
        {
          "output_type": "display_data",
          "data": {
            "text/plain": [
              "<Figure size 640x480 with 1 Axes>"
            ],
            "image/png": "[encoded data removed]"
          },
          "metadata": {}
        },
        {
          "output_type": "display_data",
          "data": {
            "text/plain": [
              "<Figure size 640x480 with 1 Axes>"
            ],
            "image/png": "[encoded data removed]"
          },
          "metadata": {}
        },
        {
          "output_type": "stream",
          "name": "stdout",
          "text": [
            "Evaluation completed.\n"
          ]
        }
      ]
    },
    {
      "cell_type": "markdown",
      "source": [
        "## Variational Autoencoder (VAE)"
      ],
      "metadata": {
        "id": "zIasVVQsT0Oy"
      }
    },
    {
      "cell_type": "code",
      "source": [],
      "metadata": {
        "id": "AL1BvccsT96R"
      },
      "execution_count": null,
      "outputs": []
    },
    {
      "cell_type": "markdown",
      "source": [
        "## DenseNets (CNN)"
      ],
      "metadata": {
        "id": "S02wpXE7T0TX"
      }
    },
    {
      "cell_type": "code",
      "source": [
        "!%tensorboard --logdir logs"
      ],
      "metadata": {
        "id": "UFFIxA8VT-O0",
        "colab": {
          "base_uri": "https://localhost:8080/"
        },
        "outputId": "0b404864-d9e0-4035-c661-ccdc99676d0d"
      },
      "execution_count": null,
      "outputs": [
        {
          "output_type": "stream",
          "name": "stdout",
          "text": [
            "/bin/bash: line 1: fg: no job control\n"
          ]
        }
      ]
    },
    {
      "cell_type": "code",
      "source": [],
      "metadata": {
        "id": "FTKj51JX7F5c"
      },
      "execution_count": null,
      "outputs": []
    }
  ]
}